{
  "nbformat": 4,
  "nbformat_minor": 0,
  "metadata": {
    "colab": {
      "provenance": [],
      "authorship_tag": "ABX9TyPpnkwNlU8dRdjRzz9W0Koa",
      "include_colab_link": true
    },
    "kernelspec": {
      "name": "python3",
      "display_name": "Python 3"
    },
    "language_info": {
      "name": "python"
    }
  },
  "cells": [
    {
      "cell_type": "markdown",
      "metadata": {
        "id": "view-in-github",
        "colab_type": "text"
      },
      "source": [
        "<a href=\"https://colab.research.google.com/github/gdelgadol/Cryptography2024_2/blob/main/CaesarGdelgadol.ipynb\" target=\"_parent\"><img src=\"https://colab.research.google.com/assets/colab-badge.svg\" alt=\"Open In Colab\"/></a>"
      ]
    },
    {
      "cell_type": "markdown",
      "source": [
        "#**Taller Cifrado Cesar**\n",
        "\n",
        "Gabriel Santiago Delgado Lozano"
      ],
      "metadata": {
        "id": "MsN3z9aTnIm9"
      }
    },
    {
      "cell_type": "code",
      "execution_count": null,
      "metadata": {
        "id": "cCrEuYSv2CyY",
        "colab": {
          "base_uri": "https://localhost:8080/"
        },
        "outputId": "82b0466b-a606-4119-a7cf-6c7f90d549f8"
      },
      "outputs": [
        {
          "output_type": "stream",
          "name": "stdout",
          "text": [
            "Ingrese 0 si desea encriptar, 1 si desea desencriptar, 2 si desea salir: 0\n",
            "Ingrese el texto a encriptar: see you in two long weeks dearest friend\n",
            "Ingrese las permutaciones: 4\n",
            "Mensaje encriptado:  WIICSYMRXASPSRKAIIOWHIEVIWXJVMIRH\n",
            "-------------------------------------------------------------------\n",
            "Ingrese 0 si desea encriptar, 1 si desea desencriptar, 2 si desea salir: 0\n",
            "Ingrese el texto a encriptar: see you in two long weeks dearest friend\n",
            "Ingrese las permutaciones: 13\n",
            "Mensaje encriptado:  FRRLBHVAGJBYBATJRRXFQRNERFGSEVRAQ\n",
            "-------------------------------------------------------------------\n",
            "Ingrese 0 si desea encriptar, 1 si desea desencriptar, 2 si desea salir: 2\n",
            "Chao :)\n"
          ]
        }
      ],
      "source": [
        "import re\n",
        "\n",
        "def caesarEncryption(plaintext, k):\n",
        "  cleanedPlaintext = re.sub(r'[^a-zA-Z]', '', plaintext.upper())\n",
        "  alphabet = \"ABCDEFGHIJKLMNOPQRSTUVWXYZ\"\n",
        "  ciphertext = \"\"\n",
        "  for i in cleanedPlaintext:\n",
        "    index = alphabet.find(i)\n",
        "    permutatedIndex = (index + k) % 26\n",
        "    ciphertext += alphabet[permutatedIndex]\n",
        "  return ciphertext\n",
        "\n",
        "def caesarDecryption(ciphertext, k):\n",
        "  cleanedCiphertext = re.sub(r'[^a-zA-Z]', '', ciphertext.upper())\n",
        "  alphabet = \"ABCDEFGHIJKLMNOPQRSTUVWXYZ\"\n",
        "  plaintext = \"\"\n",
        "  for i in cleanedCiphertext:\n",
        "    index = alphabet.find(i)\n",
        "    permutatedIndex = (index - k) % 26\n",
        "    plaintext += alphabet[permutatedIndex]\n",
        "  return plaintext\n",
        "\n",
        "while True:\n",
        "  flag = input(\"Ingrese 0 si desea encriptar, 1 si desea desencriptar, 2 si desea salir: \")\n",
        "  match flag:\n",
        "    case \"0\":\n",
        "      message = input(\"Ingrese el texto a encriptar: \")\n",
        "      k = int(input(\"Ingrese las permutaciones: \"))\n",
        "      ciphertext = caesarEncryption(message, k)\n",
        "      print(\"Mensaje encriptado: \", ciphertext)\n",
        "      print(\"-------------------------------------------------------------------\")\n",
        "    case \"1\":\n",
        "      message = input(\"Ingrese el texto a desencriptar: \")\n",
        "      k = int(input(\"Ingrese las permutaciones: \"))\n",
        "      plaintext = caesarDecryption(message, k)\n",
        "      print(\"Mensaje desencriptado: \", plaintext)\n",
        "      print(\"-------------------------------------------------------------------\")\n",
        "    case \"2\":\n",
        "      print(\"Chao :)\")\n",
        "      break\n",
        "    case _ :\n",
        "      print(\"Ingrese una opcion valida\")\n",
        "      print(\"-------------------------------------------------------------------\")\n"
      ]
    }
  ]
}